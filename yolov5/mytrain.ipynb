{
 "cells": [
  {
   "cell_type": "code",
   "execution_count": 1,
   "metadata": {},
   "outputs": [
    {
     "name": "stderr",
     "output_type": "stream",
     "text": [
      "\u001b[34m\u001b[1mtrain: \u001b[0mweights='', cfg=models/yolov3.yaml, data=dataset.yaml, hyp=data\\hyps\\hyp.scratch-low.yaml, epochs=100, batch_size=16, imgsz=640, rect=False, resume=False, nosave=False, noval=False, noautoanchor=False, noplots=False, evolve=None, evolve_population=data\\hyps, resume_evolve=None, bucket=, cache=None, image_weights=False, device=, multi_scale=False, single_cls=False, optimizer=SGD, sync_bn=False, workers=8, project=runs\\train, name=exp, exist_ok=False, quad=False, cos_lr=False, label_smoothing=0.0, patience=100, freeze=[0], save_period=-1, seed=0, local_rank=-1, entity=None, upload_dataset=False, bbox_interval=-1, artifact_alias=latest, ndjson_console=False, ndjson_file=False\n",
      "\u001b[34m\u001b[1mgithub: \u001b[0mup to date with https://github.com/ultralytics/yolov5 \n",
      "Traceback (most recent call last):\n",
      "  File \"c:\\Users\\user\\Documents\\Deep Learning Projects\\Formation Detector\\yolov5\\train.py\", line 851, in <module>\n",
      "    main(opt)\n",
      "  File \"c:\\Users\\user\\Documents\\Deep Learning Projects\\Formation Detector\\yolov5\\train.py\", line 594, in main\n",
      "    check_file(opt.data),\n",
      "    ^^^^^^^^^^^^^^^^^^^^\n",
      "  File \"c:\\Users\\user\\Documents\\Deep Learning Projects\\Formation Detector\\yolov5\\utils\\general.py\", line 504, in check_file\n",
      "    assert len(files), f\"File not found: {file}\"  # assert file was found\n",
      "           ^^^^^^^^^^\n",
      "AssertionError: File not found: dataset.yaml\n"
     ]
    }
   ],
   "source": [
    "!python train.py --data dataset.yaml --cfg models/yolov3.yaml --weights '' --batch-size 16 --epochs 100\n"
   ]
  },
  {
   "cell_type": "code",
   "execution_count": null,
   "metadata": {},
   "outputs": [],
   "source": []
  }
 ],
 "metadata": {
  "kernelspec": {
   "display_name": "deep_learning",
   "language": "python",
   "name": "python3"
  },
  "language_info": {
   "codemirror_mode": {
    "name": "ipython",
    "version": 3
   },
   "file_extension": ".py",
   "mimetype": "text/x-python",
   "name": "python",
   "nbconvert_exporter": "python",
   "pygments_lexer": "ipython3",
   "version": "3.11.9"
  }
 },
 "nbformat": 4,
 "nbformat_minor": 2
}
